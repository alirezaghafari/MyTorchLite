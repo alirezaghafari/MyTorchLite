{
 "cells": [
  {
   "cell_type": "markdown",
   "metadata": {},
   "source": [
    "### Import Libraries"
   ]
  },
  {
   "cell_type": "code",
   "execution_count": 1,
   "metadata": {},
   "outputs": [],
   "source": [
    "\"If it does not work use code below while running this notebook in this dir.\"\n",
    "# import sys\n",
    "# import os\n",
    "# sys.path.append(os.path.abspath(os.getcwd()))\n",
    "\n",
    "from mytorch import Tensor, Model\n",
    "from mytorch import activation as active_func\n",
    "from mytorch import loss as loss_func\n",
    "from mytorch import optimizer as optim \n",
    "from mytorch import layer as nn\n",
    "from mytorch.util import DataLoader\n",
    "import numpy as np\n",
    "from tqdm.auto import tqdm\n",
    "\n",
    "\n",
    "from mytorch.util import flatten\n",
    "\n",
    "import matplotlib.pyplot as plt"
   ]
  },
  {
   "cell_type": "markdown",
   "metadata": {},
   "source": [
    "### Load MNIST"
   ]
  },
  {
   "cell_type": "code",
   "execution_count": 2,
   "metadata": {},
   "outputs": [
    {
     "name": "stdout",
     "output_type": "stream",
     "text": [
      "loading train...\n",
      "loading test...\n",
      "processing...\n",
      "(500, 28, 28)\n",
      "(500,)\n"
     ]
    }
   ],
   "source": [
    "data_loader = DataLoader(train_addr='MNIST_light/MNIST/train', test_addr='MNIST_light/MNIST/test')\n",
    "data_loader.load()\n",
    "\"you can see how data is loaded\"\n",
    "print(data_loader.getTrain()[0][0].shape)\n",
    "print(data_loader.getTrain()[0][1].shape)"
   ]
  },
  {
   "cell_type": "markdown",
   "metadata": {},
   "source": [
    "### Define and Create your Model"
   ]
  },
  {
   "cell_type": "code",
   "execution_count": 3,
   "metadata": {},
   "outputs": [
    {
     "name": "stdout",
     "output_type": "stream",
     "text": [
      "fc1:  linear - total param: 100352 - in: 784, out: 128\n",
      "fc2:  linear - total param: 8192 - in: 128, out: 64\n",
      "fc3:  linear - total param: 640 - in: 64, out: 10\n",
      "None\n"
     ]
    }
   ],
   "source": [
    "class MyModel(Model):\n",
    "    def __init__(self):\n",
    "        super(Model, self).__init__()\n",
    "        self.fc1 = nn.Linear(28*28, 128)\n",
    "        self.fc2 = nn.Linear(128, 64)\n",
    "        self.fc3 = nn.Linear(64, 10)\n",
    "\n",
    "    def forward(self, x: Tensor) -> Tensor:\n",
    "        x = active_func.sigmoid(self.fc1(x))\n",
    "        x = active_func.relu(self.fc2(x))\n",
    "        x = active_func.softmax(self.fc3(x))\n",
    "        return x\n",
    "\n",
    "model = MyModel()\n",
    "print(model.summary())"
   ]
  },
  {
   "cell_type": "markdown",
   "metadata": {},
   "source": [
    "### Choose a Loss Function"
   ]
  },
  {
   "cell_type": "code",
   "execution_count": 4,
   "metadata": {},
   "outputs": [],
   "source": [
    "criterion = loss_func.CategoricalCrossEntropy"
   ]
  },
  {
   "cell_type": "markdown",
   "metadata": {},
   "source": [
    "### Choose an Optimizer"
   ]
  },
  {
   "cell_type": "code",
   "execution_count": 5,
   "metadata": {},
   "outputs": [],
   "source": [
    "optimizer = optim.SGD(model.parameters(), learning_rate=0.001)"
   ]
  },
  {
   "cell_type": "markdown",
   "metadata": {},
   "source": [
    "### Training Model"
   ]
  },
  {
   "cell_type": "code",
   "execution_count": 6,
   "metadata": {},
   "outputs": [
    {
     "data": {
      "application/vnd.jupyter.widget-view+json": {
       "model_id": "1239545dbaa54081a6c1837dc4e98e43",
       "version_major": 2,
       "version_minor": 0
      },
      "text/plain": [
       "  0%|          | 0/20 [00:00<?, ?it/s]"
      ]
     },
     "metadata": {},
     "output_type": "display_data"
    }
   ],
   "source": [
    "# Define the number of epochs\n",
    "EPOCH = 20\n",
    "\n",
    "# Initialize lists to store training and test accuracies for each epoch\n",
    "train_acc = []\n",
    "test_acc = []\n",
    "\n",
    "# Initialize variables to keep track of the best training and test accuracies\n",
    "best_train_acc = 0.0\n",
    "best_test_acc = 0.0\n",
    "\n",
    "# Iterate over each epoch\n",
    "for i in tqdm(range(EPOCH)):\n",
    "    trn_corr = 0\n",
    "    tst_corr = 0\n",
    "    \n",
    "    # Training loop\n",
    "    for X_train, y_train in data_loader.getTrain():\n",
    "        X_train = Tensor(X_train.data.reshape((-1, 784)) / 255.)\n",
    "        y_pred_dev = model(X_train)\n",
    "        optimizer.zero_grad()\n",
    "        \n",
    "        # Convert labels to one-hot encoding if necessary\n",
    "        y_train_dev = y_train\n",
    "        if y_train.data.ndim == 1:\n",
    "            tmp_lbl = np.zeros_like(y_pred_dev.data, dtype=np.float64)\n",
    "            for ind in range(tmp_lbl.shape[0]):\n",
    "                tmp_lbl[ind][y_train.data[ind]] = 1\n",
    "            y_train_dev = Tensor(tmp_lbl) \n",
    "        \n",
    "        # Compute loss, backpropagate, and update weights\n",
    "        loss = criterion(y_pred_dev, y_train_dev)\n",
    "        loss.backward()\n",
    "        optimizer.step()\n",
    "        \n",
    "        # Calculate the number of correct predictions\n",
    "        predicted = np.argmax(y_pred_dev.data, 1)\n",
    "        trn_corr += np.sum(np.equal(predicted, y_train.data))\n",
    "    \n",
    "    # Calculate training accuracy for the epoch\n",
    "    acc = (trn_corr / 10000) * 100\n",
    "    train_acc.append(acc)\n",
    "    \n",
    "    # Update the best training accuracy if the current epoch's accuracy is higher\n",
    "    best_train_acc = acc if acc > best_train_acc else best_train_acc\n",
    "    \n",
    "    # Testing loop\n",
    "    for X_test, y_test in data_loader.getTest():\n",
    "        reshaped_data = Tensor(X_test.data.reshape((-1, 784)) / 255.)\n",
    "        predicted_test = model.forward(reshaped_data)\n",
    "        predicted_test = np.argmax(predicted_test.data, 1)\n",
    "        tst_corr += np.sum(predicted_test == y_test.data)\n",
    "    \n",
    "    # Calculate test accuracy for the epoch\n",
    "    acc2 = (tst_corr / 1000) * 100\n",
    "    test_acc.append(acc2)\n",
    "    \n",
    "    # Update the best test accuracy if the current epoch's accuracy is higher\n",
    "    best_test_acc = acc2 if acc2 > best_test_acc else best_test_acc\n",
    "    \n"
   ]
  },
  {
   "cell_type": "markdown",
   "metadata": {},
   "source": [
    "### Evaluate Model Performance"
   ]
  },
  {
   "cell_type": "code",
   "execution_count": 7,
   "metadata": {},
   "outputs": [
    {
     "data": {
      "image/png": "[encoded data removed]",
      "text/plain": [
       "<Figure size 640x480 with 1 Axes>"
      ]
     },
     "metadata": {},
     "output_type": "display_data"
    },
    {
     "name": "stdout",
     "output_type": "stream",
     "text": [
      "\n",
      "On train - best accuracy: 92.94, final accuracy: 92.94\n",
      "On test - best accuracy: 90.50, final accuracy: 90.50\n"
     ]
    }
   ],
   "source": [
    "plt.plot(train_acc, label='train accuracy')\n",
    "plt.plot(test_acc, label = 'test accuracy')\n",
    "plt.xlabel('Epoch')\n",
    "plt.ylabel('Accuracy')\n",
    "plt.legend(loc='lower right')\n",
    "plt.show();\n",
    "\n",
    "print(\"\\nOn train - best accuracy: {:.2f}, final accuracy: {:.2f}\".format(best_train_acc, train_acc[-1]))\n",
    "print(\"On test - best accuracy: {:.2f}, final accuracy: {:.2f}\".format(best_test_acc, test_acc[-1]))"
   ]
  }
 ],
 "metadata": {
  "kernelspec": {
   "display_name": "Python 3 (ipykernel)",
   "language": "python",
   "name": "python3"
  },
  "language_info": {
   "codemirror_mode": {
    "name": "ipython",
    "version": 3
   },
   "file_extension": ".py",
   "mimetype": "text/x-python",
   "name": "python",
   "nbconvert_exporter": "python",
   "pygments_lexer": "ipython3",
   "version": "3.11.5"
  }
 },
 "nbformat": 4,
 "nbformat_minor": 2
}
