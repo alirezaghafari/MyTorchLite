{
 "cells": [
  {
   "cell_type": "markdown",
   "metadata": {},
   "source": [
    "### Import Libraries"
   ]
  },
  {
   "cell_type": "code",
   "execution_count": 1,
   "metadata": {},
   "outputs": [],
   "source": [
    "\"If it does not work use code below while running this notebook in this dir.\"\n",
    "# import sys\n",
    "# import os\n",
    "# sys.path.append(os.path.abspath(os.getcwd()))\n",
    "\n",
    "from mytorch import Tensor\n",
    "from mytorch import activation as active_func\n",
    "from mytorch import loss as loss_func\n",
    "from mytorch import optimizer as optim \n",
    "from mytorch import layer as nn\n",
    "\n",
    "import numpy as np\n",
    "import matplotlib.pyplot as plt"
   ]
  },
  {
   "cell_type": "markdown",
   "metadata": {},
   "source": [
    "### Simple Network\n",
    "here you have to define a simple linear layer to find coefficients of x_i in below problem. <br>\n",
    "y = ax_1 + bx_2 + cx_3 <br><br>\n",
    "![simple network.drawio.png](<attachment:simple network.drawio.png>)\n",
    "<br><br>\n",
    "weights of this linear layer is your answer. "
   ]
  },
  {
   "cell_type": "markdown",
   "metadata": {},
   "source": [
    "### Generate Data"
   ]
  },
  {
   "cell_type": "code",
   "execution_count": 2,
   "metadata": {},
   "outputs": [],
   "source": [
    "\"TODO: set coefficients\"\n",
    "a = 2.5\n",
    "b = -1.5\n",
    "c = 3.4\n",
    "\n",
    "X = Tensor(np.random.randn(100, 3))\n",
    "coef = Tensor(np.array([[a], [b], [c]]))\n",
    "y = X @ coef + 5\n"
   ]
  },
  {
   "cell_type": "markdown",
   "metadata": {},
   "source": [
    "### Train Network"
   ]
  },
  {
   "cell_type": "code",
   "execution_count": 3,
   "metadata": {},
   "outputs": [
    {
     "name": "stdout",
     "output_type": "stream",
     "text": [
      "Initial weights and bias:\n",
      "Weights: Tensor([[ 1.65988752]\n",
      " [ 0.83651993]\n",
      " [-0.19434013]], requires_grad=True)\n",
      "Bias: Tensor([[0.]], requires_grad=True)\n",
      "Epoch [10/100], Loss: 0.6048\n",
      "Epoch [20/100], Loss: 0.0003\n",
      "Epoch [30/100], Loss: 0.0000\n",
      "Epoch [40/100], Loss: 0.0000\n",
      "Epoch [50/100], Loss: 0.0000\n",
      "Epoch [60/100], Loss: 0.0000\n",
      "Epoch [70/100], Loss: 0.0000\n",
      "Epoch [80/100], Loss: 0.0000\n",
      "Epoch [90/100], Loss: 0.0000\n",
      "Epoch [100/100], Loss: 0.0000\n"
     ]
    }
   ],
   "source": [
    "l = nn.Linear(3, 1, need_bias=True)\n",
    "\n",
    "# Define an optimizer\n",
    "optimizer = optim.SGD(layers=[l], learning_rate=0.01)\n",
    "\n",
    "# Print initial weights and bias of the linear layer\n",
    "print(\"Initial weights and bias:\")\n",
    "print(\"Weights:\", l.weight)\n",
    "print(\"Bias:\", l.bias)\n",
    "\n",
    "batch_size = 5\n",
    "epLoss = []\n",
    "\n",
    "for epoch in range(100):\n",
    "    \n",
    "    epoch_loss = 0.0\n",
    "    \n",
    "    for start in range(0, 100, batch_size):\n",
    "        end = start + batch_size\n",
    "\n",
    "        inputs = X[start:end]\n",
    "        target = y[start:end]\n",
    "\n",
    "        # Forward pass: predicted\n",
    "        output = l(inputs)\n",
    "\n",
    "        # Calculate MSE loss\n",
    "        loss = loss_func.MeanSquaredError(output, target)\n",
    "\n",
    "        # Backward pass\n",
    "        optimizer.zero_grad()\n",
    "        loss.backward()\n",
    "        # update w and b using optimizer\n",
    "        optimizer.step()\n",
    "\n",
    "        # Add loss to epoch_loss\n",
    "        epoch_loss += loss.data\n",
    "\n",
    "    epLoss.append(epoch_loss / (100 / batch_size))\n",
    "    \n",
    "    if (epoch + 1) % 10 == 0:\n",
    "        print(f\"Epoch [{epoch + 1}/100], Loss: {epoch_loss:.4f}\")"
   ]
  },
  {
   "cell_type": "markdown",
   "metadata": {},
   "source": [
    "### Evaluate"
   ]
  },
  {
   "cell_type": "code",
   "execution_count": 4,
   "metadata": {},
   "outputs": [
    {
     "data": {
      "image/png": "[encoded data removed]",
      "text/plain": [
       "<Figure size 640x480 with 1 Axes>"
      ]
     },
     "metadata": {},
     "output_type": "display_data"
    },
    {
     "name": "stdout",
     "output_type": "stream",
     "text": [
      "\n",
      "OUT W and bias:\n",
      "Tensor([[ 2.5]\n",
      " [-1.5]\n",
      " [ 3.4]], requires_grad=True)\n",
      "Tensor([[5.]], requires_grad=True)\n"
     ]
    }
   ],
   "source": [
    "plt.plot(epLoss, label='Error')\n",
    "plt.xlabel('epoch')\n",
    "plt.ylabel('error')\n",
    "plt.show();\n",
    "\n",
    "print(\"\\nOUT W and bias:\")\n",
    "print(l.weight)\n",
    "print(l.bias)"
   ]
  }
 ],
 "metadata": {
  "kernelspec": {
   "display_name": "Python 3 (ipykernel)",
   "language": "python",
   "name": "python3"
  },
  "language_info": {
   "codemirror_mode": {
    "name": "ipython",
    "version": 3
   },
   "file_extension": ".py",
   "mimetype": "text/x-python",
   "name": "python",
   "nbconvert_exporter": "python",
   "pygments_lexer": "ipython3",
   "version": "3.11.5"
  }
 },
 "nbformat": 4,
 "nbformat_minor": 2
}
